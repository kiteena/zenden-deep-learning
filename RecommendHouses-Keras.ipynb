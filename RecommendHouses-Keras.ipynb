{
 "cells": [
  {
   "cell_type": "code",
   "execution_count": 88,
   "metadata": {},
   "outputs": [],
   "source": [
    "# added because the logging was annoying\n",
    "import tensorflow as tf\n",
    "import logging\n",
    "tf.get_logger().setLevel(logging.ERROR)\n",
    "from keras.models import Model\n",
    "from keras.layers import Input, Embedding, Dot, Add, Flatten, Concatenate\n",
    "from keras.layers import Dropout, BatchNormalization, Activation\n",
    "from keras.regularizers import l2\n",
    "from keras.optimizers import SGD, Adam\n",
    "import psycopg2\n",
    "import numpy as np\n",
    "from sklearn.utils import shuffle"
   ]
  },
  {
   "cell_type": "code",
   "execution_count": 89,
   "metadata": {},
   "outputs": [],
   "source": [
    "file = open('connect.txt', 'r')\n",
    "connection_string = file.readline()\n",
    "conn = psycopg2.connect(connection_string)\n",
    "curr = conn.cursor()\n",
    "\n",
    "# user count \n",
    "curr.execute('SELECT COUNT(*) FROM users')\n",
    "num_users = curr.fetchone()\n",
    "\n",
    "# house count\n",
    "curr.execute('SELECT COUNT(*) FROM houses')\n",
    "num_houses = curr.fetchone()\n",
    "\n",
    "# users, houses, scores\n",
    "curr.execute('SELECT user_id, house_id, actual_score from matches')\n",
    "data = curr.fetchall()\n",
    "shuffle(data, random_state=40)\n",
    "data = [list(d) for d in zip(*data)]\n",
    "users, houses, matches = data[0], data[1], data[2]"
   ]
  },
  {
   "cell_type": "code",
   "execution_count": 90,
   "metadata": {},
   "outputs": [],
   "source": [
    "'''\n",
    "Temporary method to handle database key issue\n",
    "'''\n",
    "def remapUsers(temp):\n",
    "    items = [7, 8, 12, 13, 14, 19, 20, 21, 22, 23, 24, 25, 26, 27, 28, 30]\n",
    "    new_users =[]\n",
    "    for t in temp: \n",
    "        for i,v in enumerate(items):\n",
    "            if t == v:\n",
    "                new_users.append(i)\n",
    "    return new_users\n",
    "users = remapUsers(users)"
   ]
  },
  {
   "cell_type": "code",
   "execution_count": null,
   "metadata": {},
   "outputs": [],
   "source": []
  },
  {
   "cell_type": "code",
   "execution_count": 113,
   "metadata": {},
   "outputs": [],
   "source": [
    "K = 10\n",
    "u = Input(shape=(1,))\n",
    "m = Input(shape=(1,))\n",
    "u_embedding = Embedding(num_users[0], K, embeddings_regularizer=l2(0))(u) \n",
    "m_embedding = Embedding(num_houses[0], K, embeddings_regularizer=l2(0))(m)\n",
    "u_bias = Embedding(num_users[0], 1, embeddings_regularizer=l2(0))(u) \n",
    "m_bias = Embedding(num_houses[0], 1, embeddings_regularizer=l2(0))(m) \n",
    "x = Dot(axes=2)([u_embedding, m_embedding]) "
   ]
  },
  {
   "cell_type": "code",
   "execution_count": 119,
   "metadata": {
    "scrolled": false
   },
   "outputs": [
    {
     "name": "stdout",
     "output_type": "stream",
     "text": [
      "Train on 2265 samples, validate on 100 samples\n",
      "Epoch 1/20\n",
      "2265/2265 [==============================] - 0s 151us/step - loss: 0.1195 - accuracy: 1.0000 - val_loss: 0.3942 - val_accuracy: 1.0000\n",
      "Epoch 2/20\n",
      "2265/2265 [==============================] - 0s 18us/step - loss: 0.0484 - accuracy: 1.0000 - val_loss: 0.3830 - val_accuracy: 1.0000\n",
      "Epoch 3/20\n",
      "2265/2265 [==============================] - 0s 19us/step - loss: 0.0295 - accuracy: 1.0000 - val_loss: 0.3775 - val_accuracy: 1.0000\n",
      "Epoch 4/20\n",
      "2265/2265 [==============================] - 0s 16us/step - loss: 0.0227 - accuracy: 1.0000 - val_loss: 0.3949 - val_accuracy: 1.0000\n",
      "Epoch 5/20\n",
      "2265/2265 [==============================] - 0s 20us/step - loss: 0.0195 - accuracy: 1.0000 - val_loss: 0.3955 - val_accuracy: 1.0000\n",
      "Epoch 6/20\n",
      "2265/2265 [==============================] - 0s 20us/step - loss: 0.0176 - accuracy: 1.0000 - val_loss: 0.3923 - val_accuracy: 1.0000\n",
      "Epoch 7/20\n",
      "2265/2265 [==============================] - 0s 19us/step - loss: 0.0161 - accuracy: 1.0000 - val_loss: 0.3877 - val_accuracy: 1.0000\n",
      "Epoch 8/20\n",
      "2265/2265 [==============================] - 0s 20us/step - loss: 0.0152 - accuracy: 1.0000 - val_loss: 0.3917 - val_accuracy: 1.0000\n",
      "Epoch 9/20\n",
      "2265/2265 [==============================] - 0s 21us/step - loss: 0.0143 - accuracy: 1.0000 - val_loss: 0.3949 - val_accuracy: 1.0000\n",
      "Epoch 10/20\n",
      "2265/2265 [==============================] - 0s 20us/step - loss: 0.0135 - accuracy: 1.0000 - val_loss: 0.4006 - val_accuracy: 1.0000\n",
      "Epoch 11/20\n",
      "2265/2265 [==============================] - 0s 20us/step - loss: 0.0131 - accuracy: 1.0000 - val_loss: 0.3994 - val_accuracy: 1.0000\n",
      "Epoch 12/20\n",
      "2265/2265 [==============================] - 0s 20us/step - loss: 0.0126 - accuracy: 1.0000 - val_loss: 0.4014 - val_accuracy: 1.0000\n",
      "Epoch 13/20\n",
      "2265/2265 [==============================] - 0s 19us/step - loss: 0.0122 - accuracy: 1.0000 - val_loss: 0.4079 - val_accuracy: 1.0000\n",
      "Epoch 14/20\n",
      "2265/2265 [==============================] - 0s 16us/step - loss: 0.0118 - accuracy: 1.0000 - val_loss: 0.4100 - val_accuracy: 1.0000\n",
      "Epoch 15/20\n",
      "2265/2265 [==============================] - 0s 20us/step - loss: 0.0114 - accuracy: 1.0000 - val_loss: 0.4128 - val_accuracy: 1.0000\n",
      "Epoch 16/20\n",
      "2265/2265 [==============================] - 0s 19us/step - loss: 0.0110 - accuracy: 1.0000 - val_loss: 0.4119 - val_accuracy: 1.0000\n",
      "Epoch 17/20\n",
      "2265/2265 [==============================] - 0s 20us/step - loss: 0.0107 - accuracy: 1.0000 - val_loss: 0.4144 - val_accuracy: 1.0000\n",
      "Epoch 18/20\n",
      "2265/2265 [==============================] - 0s 24us/step - loss: 0.0105 - accuracy: 1.0000 - val_loss: 0.4166 - val_accuracy: 1.0000\n",
      "Epoch 19/20\n",
      "2265/2265 [==============================] - 0s 25us/step - loss: 0.0101 - accuracy: 1.0000 - val_loss: 0.4205 - val_accuracy: 1.0000\n",
      "Epoch 20/20\n",
      "2265/2265 [==============================] - 0s 21us/step - loss: 0.0100 - accuracy: 1.0000 - val_loss: 0.4218 - val_accuracy: 1.0000\n"
     ]
    }
   ],
   "source": [
    "x = Add()([x, u_bias, m_bias])\n",
    "x = Flatten()(x) # (N, 1)\n",
    "\n",
    "model = Model(inputs=[u, m], outputs=x)\n",
    "model.compile(\n",
    "  loss='mse',\n",
    "  # optimizer='adam',\n",
    "  # optimizer=Adam(lr=0.01),\n",
    "  optimizer=SGD(lr=0.08, momentum=0.9),\n",
    "  metrics=['accuracy'],\n",
    ")\n",
    "\n",
    "r = model.fit(\n",
    "  x=[users[200:], houses[200:]],\n",
    "  y=matches[200:],\n",
    "  epochs=20,\n",
    "  batch_size=128,\n",
    "  validation_data=(\n",
    "    [users[:100], houses[:100]], \n",
    "      matches[:100]\n",
    "  )\n",
    ")"
   ]
  },
  {
   "cell_type": "code",
   "execution_count": 120,
   "metadata": {},
   "outputs": [],
   "source": [
    "def makePredictionsAndComputeAccuracy(test_X, test_y):\n",
    "    res = model.predict(test_X)\n",
    "    res = [ 1 if r >= 0 else 0 for r in res ]\n",
    "    print(len([i for i, j in zip(test_y, res) if i == j])/len(test_y))"
   ]
  },
  {
   "cell_type": "code",
   "execution_count": 121,
   "metadata": {},
   "outputs": [
    {
     "name": "stdout",
     "output_type": "stream",
     "text": [
      "0.77\n"
     ]
    }
   ],
   "source": [
    "makePredictionsAndComputeAccuracy([users[100:500], houses[100:500]], matches[100:500])"
   ]
  },
  {
   "cell_type": "code",
   "execution_count": 105,
   "metadata": {},
   "outputs": [],
   "source": []
  },
  {
   "cell_type": "code",
   "execution_count": null,
   "metadata": {},
   "outputs": [],
   "source": []
  },
  {
   "cell_type": "code",
   "execution_count": null,
   "metadata": {},
   "outputs": [],
   "source": []
  },
  {
   "cell_type": "code",
   "execution_count": null,
   "metadata": {},
   "outputs": [],
   "source": []
  },
  {
   "cell_type": "code",
   "execution_count": null,
   "metadata": {},
   "outputs": [],
   "source": []
  },
  {
   "cell_type": "code",
   "execution_count": null,
   "metadata": {},
   "outputs": [],
   "source": []
  },
  {
   "cell_type": "code",
   "execution_count": null,
   "metadata": {},
   "outputs": [],
   "source": []
  },
  {
   "cell_type": "code",
   "execution_count": null,
   "metadata": {},
   "outputs": [],
   "source": []
  },
  {
   "cell_type": "code",
   "execution_count": null,
   "metadata": {},
   "outputs": [],
   "source": []
  },
  {
   "cell_type": "code",
   "execution_count": null,
   "metadata": {},
   "outputs": [],
   "source": []
  },
  {
   "cell_type": "code",
   "execution_count": null,
   "metadata": {},
   "outputs": [],
   "source": []
  },
  {
   "cell_type": "code",
   "execution_count": null,
   "metadata": {},
   "outputs": [],
   "source": []
  },
  {
   "cell_type": "code",
   "execution_count": null,
   "metadata": {},
   "outputs": [],
   "source": []
  },
  {
   "cell_type": "code",
   "execution_count": null,
   "metadata": {},
   "outputs": [],
   "source": []
  },
  {
   "cell_type": "code",
   "execution_count": null,
   "metadata": {},
   "outputs": [],
   "source": []
  },
  {
   "cell_type": "code",
   "execution_count": null,
   "metadata": {},
   "outputs": [],
   "source": [
    "# the neural network\n",
    "x = Dense(400)(x)\n",
    "# x = BatchNormalization()(x)\n",
    "x = Activation('relu')(x)\n",
    "# x = Dropout(0.5)(x)\n",
    "# x = Dense(100)(x)\n",
    "# x = BatchNormalization()(x)\n",
    "# x = Activation('relu')(x)\n",
    "x = Dense(1)(x)"
   ]
  },
  {
   "cell_type": "code",
   "execution_count": null,
   "metadata": {},
   "outputs": [],
   "source": [
    "model = Model(inputs=[u, m], outputs=x)\n",
    "model.compile(\n",
    "  loss='mse',\n",
    "  # optimizer='adam',\n",
    "  # optimizer=Adam(lr=0.01),\n",
    "  optimizer=SGD(lr=0.08, momentum=0.9),\n",
    "  metrics=['mse'],\n",
    ")"
   ]
  },
  {
   "cell_type": "code",
   "execution_count": null,
   "metadata": {},
   "outputs": [],
   "source": [
    "r = model.fit(\n",
    "  x=[np.array(users[:10]), np.array(houses[:10])],\n",
    "  y=np.array(matches[:10]),\n",
    "  epochs=15,\n",
    "  batch_size=10,\n",
    "  validation_data=(\n",
    "    [np.array(users[10:]), np.array(houses[1000:])],\n",
    "    np.array(matches[1000:])\n",
    "  )\n",
    "  )"
   ]
  },
  {
   "cell_type": "code",
   "execution_count": null,
   "metadata": {},
   "outputs": [],
   "source": [
    "conn = databaseConnection()"
   ]
  },
  {
   "cell_type": "code",
   "execution_count": null,
   "metadata": {},
   "outputs": [],
   "source": []
  }
 ],
 "metadata": {
  "kernelspec": {
   "display_name": "Python 3",
   "language": "python",
   "name": "python3"
  },
  "language_info": {
   "codemirror_mode": {
    "name": "ipython",
    "version": 3
   },
   "file_extension": ".py",
   "mimetype": "text/x-python",
   "name": "python",
   "nbconvert_exporter": "python",
   "pygments_lexer": "ipython3",
   "version": "3.6.8"
  }
 },
 "nbformat": 4,
 "nbformat_minor": 2
}
