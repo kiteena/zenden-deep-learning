{
 "cells": [
  {
   "cell_type": "code",
   "execution_count": 74,
   "metadata": {},
   "outputs": [
    {
     "name": "stdout",
     "output_type": "stream",
     "text": [
      "The autoreload extension is already loaded. To reload it, use:\n",
      "  %reload_ext autoreload\n"
     ]
    }
   ],
   "source": [
    "%load_ext autoreload\n",
    "%autoreload 1\n",
    "from keras.preprocessing.image import ImageDataGenerator\n",
    "from matplotlib import pyplot\n",
    "import cv2"
   ]
  },
  {
   "cell_type": "code",
   "execution_count": 75,
   "metadata": {},
   "outputs": [],
   "source": [
    "# custom imports\n",
    "%aimport database_utils \n",
    "%aimport image_utils\n",
    "%aimport models "
   ]
  },
  {
   "cell_type": "code",
   "execution_count": 76,
   "metadata": {},
   "outputs": [],
   "source": [
    "CONNECTION_STRING = 'connect_local.txt'\n",
    "NUM_TEST_SAMPLES = 500\n",
    "NUM_CLASSES = 11"
   ]
  },
  {
   "cell_type": "code",
   "execution_count": 77,
   "metadata": {},
   "outputs": [],
   "source": [
    "m = []\n",
    "with open('misclassified.csv') as f: \n",
    "    for row in f.readlines(): \n",
    "        items = row.strip('\\n').split(',')\n",
    "        m.append(items[0])"
   ]
  },
  {
   "cell_type": "code",
   "execution_count": 78,
   "metadata": {},
   "outputs": [],
   "source": [
    "conn = database_utils.makeDatabaseConnection(CONNECTION_STRING)"
   ]
  },
  {
   "cell_type": "code",
   "execution_count": 79,
   "metadata": {},
   "outputs": [],
   "source": [
    "record = getMisclassifiedImage(conn, m)\n",
    "data = [list(d) for d in zip(*record)]\n",
    "labels, house_ids = data[1], data[2]\n",
    "image_arr = image_utils.makeImageArrayFromDataBase(data[0])"
   ]
  },
  {
   "cell_type": "code",
   "execution_count": 80,
   "metadata": {},
   "outputs": [],
   "source": [
    "gen_hflip = ImageDataGenerator(horizontal_flip=True)\n",
    "gen_vflip = ImageDataGenerator(vertical_flip=True)\n",
    "gen_zoom = ImageDataGenerator(zoom_range=[0.5,1.0])\n",
    "gen_bright = ImageDataGenerator(brightness_range=[0.2,1.0])"
   ]
  },
  {
   "cell_type": "code",
   "execution_count": 84,
   "metadata": {},
   "outputs": [],
   "source": [
    "generateImages(gen_hflip,image_arr,house_ids,labels,conn, 'horizontal')\n",
    "generateImages(gen_vflip,image_arr,house_ids,labels,conn, 'vertical')\n",
    "generateImages(gen_zoom,image_arr,house_ids,labels,conn, 'zoom')\n",
    "generateImages(gen_bright,image_arr,house_ids,labels,conn, 'brightness')"
   ]
  },
  {
   "cell_type": "code",
   "execution_count": 81,
   "metadata": {},
   "outputs": [],
   "source": [
    "def insertAugmentedImageIntoDatabase(conn, house_id, image, label): \n",
    "    curr = conn.cursor()\n",
    "    data_aug_query = \"\"\" INSERT INTO images (house_id, url_path, label, url) VALUES (%s,%s,%s,%s)\"\"\"\n",
    "    record_data_aug = (house_id, image, label, \"generated\")\n",
    "    curr.execute(data_aug_query, record_data_aug)\n",
    "    conn.commit()"
   ]
  },
  {
   "cell_type": "code",
   "execution_count": 82,
   "metadata": {},
   "outputs": [],
   "source": [
    "def getMisclassifiedImage(conn, image_ids): \n",
    "    curr = conn.cursor()\n",
    "    image_ids = tuple(image_ids)\n",
    "    mis_sample_query = f\"SELECT url_path,label,house_id FROM images where image_id IN {image_ids}\"\n",
    "    curr.execute(mis_sample_query)\n",
    "    results = curr.fetchall()\n",
    "    return results"
   ]
  },
  {
   "cell_type": "code",
   "execution_count": 83,
   "metadata": {},
   "outputs": [],
   "source": [
    "def generateImages(generator, data, house_ids, labels, conn, typeGen): \n",
    "    it = generator.flow(data, batch_size=len(data))\n",
    "    batch = it.next()\n",
    "    for b, h, l in zip(batch, house_ids, labels):\n",
    "        image = b.astype('uint8')\n",
    "        path = 'data/train/' + typeGen + str(h) + '.jpg'\n",
    "        cv2.imwrite(path, image)\n",
    "        insertAugmentedImageIntoDatabase(conn, h, path, l)"
   ]
  },
  {
   "cell_type": "code",
   "execution_count": null,
   "metadata": {},
   "outputs": [],
   "source": []
  }
 ],
 "metadata": {
  "kernelspec": {
   "display_name": "Python 3",
   "language": "python",
   "name": "python3"
  },
  "language_info": {
   "codemirror_mode": {
    "name": "ipython",
    "version": 3
   },
   "file_extension": ".py",
   "mimetype": "text/x-python",
   "name": "python",
   "nbconvert_exporter": "python",
   "pygments_lexer": "ipython3",
   "version": "3.6.8"
  }
 },
 "nbformat": 4,
 "nbformat_minor": 2
}
