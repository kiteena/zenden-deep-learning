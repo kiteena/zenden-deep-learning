{
 "cells": [
  {
   "cell_type": "code",
   "execution_count": 280,
   "metadata": {},
   "outputs": [],
   "source": [
    "import os\n",
    "os.environ['TF_CPP_MIN_LOG_LEVEL'] = '3' \n",
    "from keras.preprocessing.image import ImageDataGenerator\n",
    "from keras.models import Sequential, load_model, model_from_json\n",
    "from keras.layers import Conv2D, MaxPooling2D, InputLayer\n",
    "from keras.layers import Activation, Dropout, Flatten, Dense\n",
    "from keras import backend as K\n",
    "from keras.utils import to_categorical\n",
    "from keras.optimizers import Adam\n",
    "import cv2\n",
    "import numpy as np\n",
    "import tensorflow as tf\n",
    "import logging\n",
    "tf.get_logger().setLevel(logging.ERROR)"
   ]
  },
  {
   "cell_type": "code",
   "execution_count": 281,
   "metadata": {},
   "outputs": [],
   "source": [
    "def makeImageArray(directory): \n",
    "    imgs = []\n",
    "    for i in sorted(os.listdir(directory)): \n",
    "        path = os.path.join(directory, i)\n",
    "        img = cv2.imread(path, cv2.COLOR_BGR2RGB)\n",
    "        try: \n",
    "            img = cv2.resize(img, (128,128))\n",
    "            imgs.append(img)\n",
    "        except: \n",
    "            pass #jupyter hidden file throwing an error \n",
    "    return np.array(imgs)"
   ]
  },
  {
   "cell_type": "code",
   "execution_count": 282,
   "metadata": {},
   "outputs": [],
   "source": [
    "def makeModelArchitecture(): \n",
    "    model = Sequential()\n",
    "    model.add(Conv2D(input_shape=(128,128,3),filters=32, kernel_size=5, strides=1, padding='same',activation='relu'))\n",
    "    model.add(MaxPooling2D(pool_size=5, padding='same'))\n",
    "\n",
    "    model.add(Conv2D(filters=50, kernel_size=5, strides=1, padding='same',activation='relu'))\n",
    "    model.add(MaxPooling2D(pool_size=5, padding='same'))\n",
    "\n",
    "    model.add(Conv2D(filters=80, kernel_size=5, strides=1, padding='same',activation='relu'))\n",
    "    model.add(MaxPooling2D(pool_size=5, padding='same'))\n",
    "\n",
    "    model.add(Dropout(0.25))\n",
    "    model.add(Flatten())\n",
    "    model.add(Dense(512, input_shape =(None,320), activation='relu'))\n",
    "    model.add(Dropout(0.5))\n",
    "    model.add(Dense(4, input_shape =(None,512),activation='softmax'))\n",
    "    optimizer = Adam(lr=1e-3)\n",
    "    model.compile(loss='categorical_crossentropy',\n",
    "                  optimizer=optimizer,\n",
    "                  metrics=['accuracy'])\n",
    "    return model"
   ]
  },
  {
   "cell_type": "code",
   "execution_count": 283,
   "metadata": {},
   "outputs": [],
   "source": [
    "def convertToCategorical(y): \n",
    "    return to_categorical(y, 4)"
   ]
  },
  {
   "cell_type": "code",
   "execution_count": 284,
   "metadata": {},
   "outputs": [],
   "source": [
    "choices =['front', 'inside', 'house_other', 'not_house']\n",
    "def humanReadableLabel(prediction_lbl): \n",
    "    return choices[prediction_lbl]"
   ]
  },
  {
   "cell_type": "code",
   "execution_count": 285,
   "metadata": {},
   "outputs": [],
   "source": [
    "def fitModel(model, train_X, train_y): \n",
    "    model.fit(x=train_X, y=train_y, epochs=50, batch_size=100)"
   ]
  },
  {
   "cell_type": "code",
   "execution_count": 286,
   "metadata": {},
   "outputs": [],
   "source": [
    "def makePredictionsAndComputeAccuracy(test_X, test_y):\n",
    "    predictions =[]\n",
    "    results = model.predict(test_X)\n",
    "    for r in results: \n",
    "        maxval = np.max(r)\n",
    "        predictions.append(np.squeeze(np.where(r==maxval)[0]).item(0))\n",
    "    print(len([i for i, j in zip(predictions, test_y) if i == j])/len(test_y))"
   ]
  },
  {
   "cell_type": "code",
   "execution_count": 287,
   "metadata": {},
   "outputs": [
    {
     "name": "stdout",
     "output_type": "stream",
     "text": [
      "Epoch 1/50\n",
      "104/104 [==============================] - 1s 12ms/step - loss: 25.6884 - accuracy: 0.3942\n",
      "Epoch 2/50\n",
      "104/104 [==============================] - 1s 9ms/step - loss: 16.2084 - accuracy: 0.4615\n",
      "Epoch 3/50\n",
      "104/104 [==============================] - 1s 9ms/step - loss: 8.2046 - accuracy: 0.5673\n",
      "Epoch 4/50\n",
      "104/104 [==============================] - 1s 9ms/step - loss: 5.2252 - accuracy: 0.4519\n",
      "Epoch 5/50\n",
      "104/104 [==============================] - 1s 9ms/step - loss: 3.7162 - accuracy: 0.5577\n",
      "Epoch 6/50\n",
      "104/104 [==============================] - 1s 9ms/step - loss: 3.1850 - accuracy: 0.5192\n",
      "Epoch 7/50\n",
      "104/104 [==============================] - 1s 9ms/step - loss: 2.4727 - accuracy: 0.5096\n",
      "Epoch 8/50\n",
      "104/104 [==============================] - 1s 9ms/step - loss: 2.4649 - accuracy: 0.6250\n",
      "Epoch 9/50\n",
      "104/104 [==============================] - 1s 9ms/step - loss: 1.6529 - accuracy: 0.6154\n",
      "Epoch 10/50\n",
      "104/104 [==============================] - 1s 9ms/step - loss: 1.5247 - accuracy: 0.6731\n",
      "Epoch 11/50\n",
      "104/104 [==============================] - 1s 9ms/step - loss: 1.4485 - accuracy: 0.6250\n",
      "Epoch 12/50\n",
      "104/104 [==============================] - 1s 9ms/step - loss: 1.3224 - accuracy: 0.5962\n",
      "Epoch 13/50\n",
      "104/104 [==============================] - 1s 9ms/step - loss: 1.1735 - accuracy: 0.6923\n",
      "Epoch 14/50\n",
      "104/104 [==============================] - 1s 9ms/step - loss: 1.0778 - accuracy: 0.7115\n",
      "Epoch 15/50\n",
      "104/104 [==============================] - 1s 9ms/step - loss: 0.8615 - accuracy: 0.7404\n",
      "Epoch 16/50\n",
      "104/104 [==============================] - 1s 9ms/step - loss: 0.8513 - accuracy: 0.7404\n",
      "Epoch 17/50\n",
      "104/104 [==============================] - 1s 9ms/step - loss: 1.1666 - accuracy: 0.5769\n",
      "Epoch 18/50\n",
      "104/104 [==============================] - 1s 9ms/step - loss: 0.7966 - accuracy: 0.7115\n",
      "Epoch 19/50\n",
      "104/104 [==============================] - 1s 9ms/step - loss: 0.7645 - accuracy: 0.7404\n",
      "Epoch 20/50\n",
      "104/104 [==============================] - 1s 9ms/step - loss: 0.9451 - accuracy: 0.7019\n",
      "Epoch 21/50\n",
      "104/104 [==============================] - 1s 9ms/step - loss: 0.7552 - accuracy: 0.6923\n",
      "Epoch 22/50\n",
      "104/104 [==============================] - 1s 9ms/step - loss: 0.8679 - accuracy: 0.6058\n",
      "Epoch 23/50\n",
      "104/104 [==============================] - 1s 9ms/step - loss: 0.8315 - accuracy: 0.6827\n",
      "Epoch 24/50\n",
      "104/104 [==============================] - 1s 9ms/step - loss: 0.8861 - accuracy: 0.6635\n",
      "Epoch 25/50\n",
      "104/104 [==============================] - 1s 9ms/step - loss: 0.9597 - accuracy: 0.7212\n",
      "Epoch 26/50\n",
      "104/104 [==============================] - 1s 9ms/step - loss: 0.7098 - accuracy: 0.7692\n",
      "Epoch 27/50\n",
      "104/104 [==============================] - 1s 9ms/step - loss: 0.7280 - accuracy: 0.7692\n",
      "Epoch 28/50\n",
      "104/104 [==============================] - 1s 9ms/step - loss: 0.9836 - accuracy: 0.7019\n",
      "Epoch 29/50\n",
      "104/104 [==============================] - 1s 9ms/step - loss: 0.7900 - accuracy: 0.7308\n",
      "Epoch 30/50\n",
      "104/104 [==============================] - 1s 9ms/step - loss: 0.7561 - accuracy: 0.7308\n",
      "Epoch 31/50\n",
      "104/104 [==============================] - 1s 9ms/step - loss: 0.9382 - accuracy: 0.6827\n",
      "Epoch 32/50\n",
      "104/104 [==============================] - 1s 9ms/step - loss: 0.5908 - accuracy: 0.8077\n",
      "Epoch 33/50\n",
      "104/104 [==============================] - 1s 9ms/step - loss: 0.9289 - accuracy: 0.7212\n",
      "Epoch 34/50\n",
      "104/104 [==============================] - 1s 9ms/step - loss: 0.9765 - accuracy: 0.7115\n",
      "Epoch 35/50\n",
      "104/104 [==============================] - 1s 9ms/step - loss: 0.8503 - accuracy: 0.7308\n",
      "Epoch 36/50\n",
      "104/104 [==============================] - 1s 9ms/step - loss: 0.7236 - accuracy: 0.7212\n",
      "Epoch 37/50\n",
      "104/104 [==============================] - 1s 9ms/step - loss: 0.6725 - accuracy: 0.7500\n",
      "Epoch 38/50\n",
      "104/104 [==============================] - 1s 9ms/step - loss: 0.6405 - accuracy: 0.7885\n",
      "Epoch 39/50\n",
      "104/104 [==============================] - 1s 9ms/step - loss: 0.5803 - accuracy: 0.8173\n",
      "Epoch 40/50\n",
      "104/104 [==============================] - 1s 9ms/step - loss: 0.5458 - accuracy: 0.8750\n",
      "Epoch 41/50\n",
      "104/104 [==============================] - 1s 9ms/step - loss: 0.5367 - accuracy: 0.7981\n",
      "Epoch 42/50\n",
      "104/104 [==============================] - 1s 9ms/step - loss: 0.5391 - accuracy: 0.8269\n",
      "Epoch 43/50\n",
      "104/104 [==============================] - 1s 10ms/step - loss: 0.5516 - accuracy: 0.8558\n",
      "Epoch 44/50\n",
      "104/104 [==============================] - 1s 9ms/step - loss: 0.5116 - accuracy: 0.8942\n",
      "Epoch 45/50\n",
      "104/104 [==============================] - 1s 9ms/step - loss: 0.5184 - accuracy: 0.8269\n",
      "Epoch 46/50\n",
      "104/104 [==============================] - 1s 9ms/step - loss: 0.5504 - accuracy: 0.7788\n",
      "Epoch 47/50\n",
      "104/104 [==============================] - 1s 9ms/step - loss: 0.4481 - accuracy: 0.8654\n",
      "Epoch 48/50\n",
      "104/104 [==============================] - 1s 9ms/step - loss: 0.5012 - accuracy: 0.7885\n",
      "Epoch 49/50\n",
      "104/104 [==============================] - 1s 9ms/step - loss: 0.5284 - accuracy: 0.8173\n",
      "Epoch 50/50\n",
      "104/104 [==============================] - 1s 9ms/step - loss: 0.6148 - accuracy: 0.8269\n"
     ]
    }
   ],
   "source": [
    "train_dir = 'data/images/train'\n",
    "train_y_sparse = [3,3,3,3,1,0,1,0,1,1,0,1,1,0,0,1,1,0,1,1,0,0,1,2,0,1,1,0,1,1,1,2,0,0,0,0,0,1,1,0,0,1,1,0,1,1,0,0,1,1,1,1,1,0,0,1,1,0,1,1,1,1,0,0,1,0,0,1,1,1,1,0,0,1,1,1,0,1,1,1,2,0,1,1,1,1,1,0,0,1,1,1,1,1,1,0,1,0,1,1,1,0,1,1]\n",
    "test_dir = 'data/images/test'\n",
    "test_y_sparse = [3,1,1,1,0,0,0,1,1,1,0]\n",
    "\n",
    "train_X = makeImageArray(train_dir)\n",
    "test_X = makeImageArray(test_dir)\n",
    "\n",
    "train_y = convertToCategorical(train_y_sparse)\n",
    "test_y = convertToCategorical(test_y_sparse)\n",
    "\n",
    "model = makeModelArchitecture()\n",
    "fitModel(model, train_X, train_y)"
   ]
  },
  {
   "cell_type": "code",
   "execution_count": 288,
   "metadata": {},
   "outputs": [
    {
     "name": "stdout",
     "output_type": "stream",
     "text": [
      "Model: \"sequential_16\"\n",
      "_________________________________________________________________\n",
      "Layer (type)                 Output Shape              Param #   \n",
      "=================================================================\n",
      "conv2d_46 (Conv2D)           (None, 128, 128, 32)      2432      \n",
      "_________________________________________________________________\n",
      "max_pooling2d_46 (MaxPooling (None, 26, 26, 32)        0         \n",
      "_________________________________________________________________\n",
      "conv2d_47 (Conv2D)           (None, 26, 26, 50)        40050     \n",
      "_________________________________________________________________\n",
      "max_pooling2d_47 (MaxPooling (None, 6, 6, 50)          0         \n",
      "_________________________________________________________________\n",
      "conv2d_48 (Conv2D)           (None, 6, 6, 80)          100080    \n",
      "_________________________________________________________________\n",
      "max_pooling2d_48 (MaxPooling (None, 2, 2, 80)          0         \n",
      "_________________________________________________________________\n",
      "dropout_31 (Dropout)         (None, 2, 2, 80)          0         \n",
      "_________________________________________________________________\n",
      "flatten_16 (Flatten)         (None, 320)               0         \n",
      "_________________________________________________________________\n",
      "dense_31 (Dense)             (None, 512)               164352    \n",
      "_________________________________________________________________\n",
      "dropout_32 (Dropout)         (None, 512)               0         \n",
      "_________________________________________________________________\n",
      "dense_32 (Dense)             (None, 4)                 2052      \n",
      "=================================================================\n",
      "Total params: 308,966\n",
      "Trainable params: 308,966\n",
      "Non-trainable params: 0\n",
      "_________________________________________________________________\n"
     ]
    }
   ],
   "source": [
    "model.summary()"
   ]
  },
  {
   "cell_type": "code",
   "execution_count": 289,
   "metadata": {},
   "outputs": [],
   "source": [
    "model.save('dl_keras_first_attempt.h5')"
   ]
  },
  {
   "cell_type": "code",
   "execution_count": 290,
   "metadata": {},
   "outputs": [
    {
     "name": "stdout",
     "output_type": "stream",
     "text": [
      "Model: \"sequential_16\"\n",
      "_________________________________________________________________\n",
      "Layer (type)                 Output Shape              Param #   \n",
      "=================================================================\n",
      "conv2d_46 (Conv2D)           (None, 128, 128, 32)      2432      \n",
      "_________________________________________________________________\n",
      "max_pooling2d_46 (MaxPooling (None, 26, 26, 32)        0         \n",
      "_________________________________________________________________\n",
      "conv2d_47 (Conv2D)           (None, 26, 26, 50)        40050     \n",
      "_________________________________________________________________\n",
      "max_pooling2d_47 (MaxPooling (None, 6, 6, 50)          0         \n",
      "_________________________________________________________________\n",
      "conv2d_48 (Conv2D)           (None, 6, 6, 80)          100080    \n",
      "_________________________________________________________________\n",
      "max_pooling2d_48 (MaxPooling (None, 2, 2, 80)          0         \n",
      "_________________________________________________________________\n",
      "dropout_31 (Dropout)         (None, 2, 2, 80)          0         \n",
      "_________________________________________________________________\n",
      "flatten_16 (Flatten)         (None, 320)               0         \n",
      "_________________________________________________________________\n",
      "dense_31 (Dense)             (None, 512)               164352    \n",
      "_________________________________________________________________\n",
      "dropout_32 (Dropout)         (None, 512)               0         \n",
      "_________________________________________________________________\n",
      "dense_32 (Dense)             (None, 4)                 2052      \n",
      "=================================================================\n",
      "Total params: 308,966\n",
      "Trainable params: 308,966\n",
      "Non-trainable params: 0\n",
      "_________________________________________________________________\n"
     ]
    }
   ],
   "source": [
    "prev_model = load_model('dl_keras_first_attempt.h5')\n",
    "prev_model.summary()"
   ]
  },
  {
   "cell_type": "code",
   "execution_count": null,
   "metadata": {},
   "outputs": [],
   "source": []
  }
 ],
 "metadata": {
  "kernelspec": {
   "display_name": "Python 3",
   "language": "python",
   "name": "python3"
  },
  "language_info": {
   "codemirror_mode": {
    "name": "ipython",
    "version": 3
   },
   "file_extension": ".py",
   "mimetype": "text/x-python",
   "name": "python",
   "nbconvert_exporter": "python",
   "pygments_lexer": "ipython3",
   "version": "3.6.8"
  }
 },
 "nbformat": 4,
 "nbformat_minor": 2
}
